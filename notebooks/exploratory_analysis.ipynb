{
 "cells": [
  {
   "cell_type": "markdown",
   "id": "ad3850ae",
   "metadata": {},
   "source": [
    "## Check correlation"
   ]
  },
  {
   "cell_type": "code",
   "execution_count": null,
   "id": "6d7d53b8",
   "metadata": {},
   "outputs": [],
   "source": [
    "from data import fetch_data\n",
    "\n",
    "df = fetch_data.fetch_pair_data(\"KO\", \"PEP\")\n",
    "\n",
    "# Check correlation\n",
    "df.corr()\n",
    "\n",
    "# Price ratio\n",
    "(df[\"KO\"] / df[\"PEP\"]).plot(title=\"Price Ratio\")"
   ]
  },
  {
   "cell_type": "markdown",
   "id": "5f042035",
   "metadata": {},
   "source": [
    "## Test for cointegration"
   ]
  },
  {
   "cell_type": "code",
   "execution_count": null,
   "id": "55eb9515",
   "metadata": {},
   "outputs": [],
   "source": [
    "from statsmodels.tsa.stattools import coint\n",
    "from data import fetch_data\n",
    "\n",
    "df = fetch_data.fetch_pair_data(\"KO\", \"PEP\")\n",
    "\n",
    "score, pvalue, _ = coint(df[\"KO\"], df[\"PEP\"])\n",
    "print(\"Cointegration p-value:\", pvalue)"
   ]
  }
 ],
 "metadata": {
  "language_info": {
   "name": "python"
  }
 },
 "nbformat": 4,
 "nbformat_minor": 5
}
